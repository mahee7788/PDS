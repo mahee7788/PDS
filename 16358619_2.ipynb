{
  "nbformat": 4,
  "nbformat_minor": 0,
  "metadata": {
    "colab": {
      "provenance": [],
      "include_colab_link": true
    },
    "kernelspec": {
      "name": "python3",
      "display_name": "Python 3"
    },
    "language_info": {
      "name": "python"
    }
  },
  "cells": [
    {
      "cell_type": "markdown",
      "metadata": {
        "id": "view-in-github",
        "colab_type": "text"
      },
      "source": [
        "<a href=\"https://colab.research.google.com/github/mahee7788/PDS/blob/main/16358619_2.ipynb\" target=\"_parent\"><img src=\"https://colab.research.google.com/assets/colab-badge.svg\" alt=\"Open In Colab\"/></a>"
      ]
    },
    {
      "cell_type": "code",
      "execution_count": 2,
      "metadata": {
        "id": "gDO7IXFmXQ46"
      },
      "outputs": [],
      "source": [
        "import pandas as pd\n",
        "from tabulate import tabulate\n"
      ]
    },
    {
      "cell_type": "code",
      "source": [
        "# Load the dataset\n",
        "df = pd.read_csv('train.csv')\n",
        "\n",
        "# Display the first few rows to verify the data is loaded correctly\n",
        "print(\"First Few Rows of the DataFrame:\")\n",
        "print(tabulate(df.head(), headers='keys', tablefmt='grid'))"
      ],
      "metadata": {
        "colab": {
          "base_uri": "https://localhost:8080/"
        },
        "id": "J4UxnOyWXY48",
        "outputId": "eeb99bad-7f75-4f30-8f05-a58eb6222286"
      },
      "execution_count": 3,
      "outputs": [
        {
          "output_type": "stream",
          "name": "stdout",
          "text": [
            "First Few Rows of the DataFrame:\n",
            "+----+--------------+----------------------------------+------------+--------+---------------------+-------------+----------------+--------------+------------+----------+-----------+---------+-------------+---------+\n",
            "|    |   Unnamed: 0 | Name                             | Location   |   Year |   Kilometers_Driven | Fuel_Type   | Transmission   | Owner_Type   | Mileage    | Engine   | Power     |   Seats | New_Price   |   Price |\n",
            "+====+==============+==================================+============+========+=====================+=============+================+==============+============+==========+===========+=========+=============+=========+\n",
            "|  0 |            1 | Hyundai Creta 1.6 CRDi SX Option | Pune       |   2015 |               41000 | Diesel      | Manual         | First        | 19.67 kmpl | 1582 CC  | 126.2 bhp |       5 | nan         |   12.5  |\n",
            "+----+--------------+----------------------------------+------------+--------+---------------------+-------------+----------------+--------------+------------+----------+-----------+---------+-------------+---------+\n",
            "|  1 |            2 | Honda Jazz V                     | Chennai    |   2011 |               46000 | Petrol      | Manual         | First        | 13 km/kg   | 1199 CC  | 88.7 bhp  |       5 | 8.61 Lakh   |    4.5  |\n",
            "+----+--------------+----------------------------------+------------+--------+---------------------+-------------+----------------+--------------+------------+----------+-----------+---------+-------------+---------+\n",
            "|  2 |            3 | Maruti Ertiga VDI                | Chennai    |   2012 |               87000 | Diesel      | Manual         | First        | 20.77 kmpl | 1248 CC  | 88.76 bhp |       7 | nan         |    6    |\n",
            "+----+--------------+----------------------------------+------------+--------+---------------------+-------------+----------------+--------------+------------+----------+-----------+---------+-------------+---------+\n",
            "|  3 |            4 | Audi A4 New 2.0 TDI Multitronic  | Coimbatore |   2013 |               40670 | Diesel      | Automatic      | Second       | 15.2 kmpl  | 1968 CC  | 140.8 bhp |       5 | nan         |   17.74 |\n",
            "+----+--------------+----------------------------------+------------+--------+---------------------+-------------+----------------+--------------+------------+----------+-----------+---------+-------------+---------+\n",
            "|  4 |            6 | Nissan Micra Diesel XV           | Jaipur     |   2013 |               86999 | Diesel      | Manual         | First        | 23.08 kmpl | 1461 CC  | 63.1 bhp  |       5 | nan         |    3.5  |\n",
            "+----+--------------+----------------------------------+------------+--------+---------------------+-------------+----------------+--------------+------------+----------+-----------+---------+-------------+---------+\n"
          ]
        }
      ]
    },
    {
      "cell_type": "markdown",
      "source": [
        "Look for the missing values in all the columns and either impute them (replace with mean,\n",
        "median, or mode) or drop them. Justify your action for this task."
      ],
      "metadata": {
        "id": "PkQzaRFpYhYu"
      }
    },
    {
      "cell_type": "code",
      "source": [
        "# Define function to clean numeric columns\n",
        "def clean_numeric_column(column):\n",
        "    # Remove non-numeric characters and convert to float\n",
        "    return pd.to_numeric(column.str.replace(r'[^0-9.]', '', regex=True), errors='coerce')"
      ],
      "metadata": {
        "id": "AZ8oVDUGXVJe"
      },
      "execution_count": 4,
      "outputs": []
    },
    {
      "cell_type": "code",
      "source": [
        "# Apply the function to the necessary columns\n",
        "df['Mileage'] = clean_numeric_column(df['Mileage'])\n",
        "df['Engine'] = clean_numeric_column(df['Engine'])\n",
        "df['Power'] = clean_numeric_column(df['Power'])"
      ],
      "metadata": {
        "id": "KmS8pT3xXewu"
      },
      "execution_count": 5,
      "outputs": []
    },
    {
      "cell_type": "code",
      "source": [
        "# Impute missing values\n",
        "# Mileage - impute with median\n",
        "df['Mileage'] = df['Mileage'].fillna(df['Mileage'].median())\n",
        "# Engine - impute with median\n",
        "df['Engine'] = df['Engine'].fillna(df['Engine'].median())\n",
        "# Power - impute with median\n",
        "df['Power'] = df['Power'].fillna(df['Power'].median())\n",
        "# Seats - impute with mode (most common value)\n",
        "df['Seats'] = df['Seats'].fillna(df['Seats'].mode()[0])"
      ],
      "metadata": {
        "id": "nytn5CU3YWm2"
      },
      "execution_count": 6,
      "outputs": []
    },
    {
      "cell_type": "code",
      "source": [
        "# Drop New_Price column due to high proportion of missing values\n",
        "df.drop(columns=['New_Price'], inplace=True)"
      ],
      "metadata": {
        "id": "CrGbUYFxXkN9"
      },
      "execution_count": 7,
      "outputs": []
    },
    {
      "cell_type": "code",
      "source": [
        "# Final check for missing values\n",
        "print(\"Remaining missing values:\\n\", df.isnull().sum())"
      ],
      "metadata": {
        "colab": {
          "base_uri": "https://localhost:8080/"
        },
        "id": "FFKKsHSYXmUd",
        "outputId": "7cf1deb0-c88b-40e0-a5a2-e048d866388c"
      },
      "execution_count": 8,
      "outputs": [
        {
          "output_type": "stream",
          "name": "stdout",
          "text": [
            "Remaining missing values:\n",
            " Unnamed: 0           0\n",
            "Name                 0\n",
            "Location             0\n",
            "Year                 0\n",
            "Kilometers_Driven    0\n",
            "Fuel_Type            0\n",
            "Transmission         0\n",
            "Owner_Type           0\n",
            "Mileage              0\n",
            "Engine               0\n",
            "Power                0\n",
            "Seats                0\n",
            "Price                0\n",
            "dtype: int64\n"
          ]
        }
      ]
    },
    {
      "cell_type": "markdown",
      "source": [
        "Remove the units from some of the attributes and only keep the numerical values (for\n",
        "example remove kmpl from “Mileage”, CC from “Engine”, bhp from “Power”, and lakh from\n",
        "“New_price”)"
      ],
      "metadata": {
        "id": "72y1fFJYYl8G"
      }
    },
    {
      "cell_type": "code",
      "source": [
        "print(df.columns)\n"
      ],
      "metadata": {
        "colab": {
          "base_uri": "https://localhost:8080/"
        },
        "id": "14stUTymZwnn",
        "outputId": "d5e4d080-46c0-4519-c080-aeb1aeb5ea0a"
      },
      "execution_count": 9,
      "outputs": [
        {
          "output_type": "stream",
          "name": "stdout",
          "text": [
            "Index(['Unnamed: 0', 'Name', 'Location', 'Year', 'Kilometers_Driven',\n",
            "       'Fuel_Type', 'Transmission', 'Owner_Type', 'Mileage', 'Engine', 'Power',\n",
            "       'Seats', 'Price'],\n",
            "      dtype='object')\n"
          ]
        }
      ]
    },
    {
      "cell_type": "code",
      "source": [
        "#  Define a function to clean numeric columns by removing units and converting to float\n",
        "def clean_numeric_column(column):\n",
        "    # Ensure the column is treated as a string, remove non-numeric characters, and convert to float\n",
        "    if column is not None:\n",
        "        return pd.to_numeric(column.astype(str).str.replace(r'[^0-9.]', '', regex=True), errors='coerce')\n",
        "    return None  # Return None if column does not exist"
      ],
      "metadata": {
        "id": "bwBQ6oKqZhtP"
      },
      "execution_count": 10,
      "outputs": []
    },
    {
      "cell_type": "code",
      "source": [
        "# Clean columns if they exist\n",
        "df['Mileage'] = clean_numeric_column(df.get('Mileage'))  # Removes 'kmpl' from 'Mileage'\n",
        "df['Engine'] = clean_numeric_column(df.get('Engine'))    # Removes 'CC' from 'Engine'\n",
        "df['Power'] = clean_numeric_column(df.get('Power'))      # Removes 'bhp' from 'Power'\n",
        "df['New_Price'] = clean_numeric_column(df.get('New_Price'))  # Removes 'lakh' from 'New_Price'"
      ],
      "metadata": {
        "id": "NHU-zY5mYixS"
      },
      "execution_count": 11,
      "outputs": []
    },
    {
      "cell_type": "code",
      "source": [
        "# Display the cleaned columns to verify\n",
        "print(\"Cleaned Columns:\")\n",
        "print(tabulate(df[['Mileage', 'Engine', 'Power', 'New_Price']].head(), headers='keys', tablefmt='grid'))"
      ],
      "metadata": {
        "colab": {
          "base_uri": "https://localhost:8080/"
        },
        "id": "g0S8SeTuZYYS",
        "outputId": "0147e615-3167-431c-a394-9ee7a98eedda"
      },
      "execution_count": 12,
      "outputs": [
        {
          "output_type": "stream",
          "name": "stdout",
          "text": [
            "Cleaned Columns:\n",
            "+----+-----------+----------+---------+-------------+\n",
            "|    |   Mileage |   Engine |   Power | New_Price   |\n",
            "+====+===========+==========+=========+=============+\n",
            "|  0 |     19.67 |     1582 |  126.2  |             |\n",
            "+----+-----------+----------+---------+-------------+\n",
            "|  1 |     13    |     1199 |   88.7  |             |\n",
            "+----+-----------+----------+---------+-------------+\n",
            "|  2 |     20.77 |     1248 |   88.76 |             |\n",
            "+----+-----------+----------+---------+-------------+\n",
            "|  3 |     15.2  |     1968 |  140.8  |             |\n",
            "+----+-----------+----------+---------+-------------+\n",
            "|  4 |     23.08 |     1461 |   63.1  |             |\n",
            "+----+-----------+----------+---------+-------------+\n"
          ]
        }
      ]
    },
    {
      "cell_type": "markdown",
      "source": [
        "Change the categorical variables (“Fuel_Type” and “Transmission”) into numerical one hot\n",
        "encoded value"
      ],
      "metadata": {
        "id": "xws4IDaxamQw"
      }
    },
    {
      "cell_type": "code",
      "source": [
        "# Perform one-hot encoding on 'Fuel_Type' and 'Transmission' columns\n",
        "df = pd.get_dummies(df, columns=['Fuel_Type', 'Transmission'], drop_first=True)"
      ],
      "metadata": {
        "id": "hWEjKuuQalnO"
      },
      "execution_count": 13,
      "outputs": []
    },
    {
      "cell_type": "code",
      "source": [
        "# Display the updated DataFrame to verify\n",
        "print(\"\\nUpdated DataFrame after One-Hot Encoding (showing first few rows):\")\n",
        "print(tabulate(df.head(), headers='keys', tablefmt='grid'))"
      ],
      "metadata": {
        "colab": {
          "base_uri": "https://localhost:8080/"
        },
        "id": "rNfP3tUHaxgC",
        "outputId": "85f93702-e363-4cd2-8332-1e4edb766f73"
      },
      "execution_count": 14,
      "outputs": [
        {
          "output_type": "stream",
          "name": "stdout",
          "text": [
            "\n",
            "Updated DataFrame after One-Hot Encoding (showing first few rows):\n",
            "+----+--------------+----------------------------------+------------+--------+---------------------+--------------+-----------+----------+---------+---------+---------+-------------+----------------------+--------------------+-----------------------+\n",
            "|    |   Unnamed: 0 | Name                             | Location   |   Year |   Kilometers_Driven | Owner_Type   |   Mileage |   Engine |   Power |   Seats |   Price | New_Price   | Fuel_Type_Electric   | Fuel_Type_Petrol   | Transmission_Manual   |\n",
            "+====+==============+==================================+============+========+=====================+==============+===========+==========+=========+=========+=========+=============+======================+====================+=======================+\n",
            "|  0 |            1 | Hyundai Creta 1.6 CRDi SX Option | Pune       |   2015 |               41000 | First        |     19.67 |     1582 |  126.2  |       5 |   12.5  |             | False                | False              | True                  |\n",
            "+----+--------------+----------------------------------+------------+--------+---------------------+--------------+-----------+----------+---------+---------+---------+-------------+----------------------+--------------------+-----------------------+\n",
            "|  1 |            2 | Honda Jazz V                     | Chennai    |   2011 |               46000 | First        |     13    |     1199 |   88.7  |       5 |    4.5  |             | False                | True               | True                  |\n",
            "+----+--------------+----------------------------------+------------+--------+---------------------+--------------+-----------+----------+---------+---------+---------+-------------+----------------------+--------------------+-----------------------+\n",
            "|  2 |            3 | Maruti Ertiga VDI                | Chennai    |   2012 |               87000 | First        |     20.77 |     1248 |   88.76 |       7 |    6    |             | False                | False              | True                  |\n",
            "+----+--------------+----------------------------------+------------+--------+---------------------+--------------+-----------+----------+---------+---------+---------+-------------+----------------------+--------------------+-----------------------+\n",
            "|  3 |            4 | Audi A4 New 2.0 TDI Multitronic  | Coimbatore |   2013 |               40670 | Second       |     15.2  |     1968 |  140.8  |       5 |   17.74 |             | False                | False              | False                 |\n",
            "+----+--------------+----------------------------------+------------+--------+---------------------+--------------+-----------+----------+---------+---------+---------+-------------+----------------------+--------------------+-----------------------+\n",
            "|  4 |            6 | Nissan Micra Diesel XV           | Jaipur     |   2013 |               86999 | First        |     23.08 |     1461 |   63.1  |       5 |    3.5  |             | False                | False              | True                  |\n",
            "+----+--------------+----------------------------------+------------+--------+---------------------+--------------+-----------+----------+---------+---------+---------+-------------+----------------------+--------------------+-----------------------+\n"
          ]
        }
      ]
    },
    {
      "cell_type": "markdown",
      "source": [
        "Create one more feature and add this column to the dataset (you can use mutate function in\n",
        "R for this). For example, you can calculate the current age of the car by subtracting “Year” value\n",
        "from the current year"
      ],
      "metadata": {
        "id": "5fxwmYv1azwa"
      }
    },
    {
      "cell_type": "code",
      "source": [
        "from datetime import datetime\n",
        "from tabulate import tabulate\n",
        "\n"
      ],
      "metadata": {
        "id": "hLYM4DnNecav"
      },
      "execution_count": 15,
      "outputs": []
    },
    {
      "cell_type": "code",
      "source": [
        "# Calculate the current year\n",
        "current_year = datetime.now().year"
      ],
      "metadata": {
        "id": "rcScajIVeHkL"
      },
      "execution_count": 16,
      "outputs": []
    },
    {
      "cell_type": "code",
      "source": [
        "# Create a new feature 'Car_Age'\n",
        "df['Car_Age'] = current_year - df['Year']"
      ],
      "metadata": {
        "id": "bzuR2QAWeJko"
      },
      "execution_count": 17,
      "outputs": []
    },
    {
      "cell_type": "code",
      "source": [
        "# Create a new feature 'Car_Age' by subtracting 'Year' from the current year\n",
        "df['Car_Age'] = current_year - df['Year']"
      ],
      "metadata": {
        "id": "9M-39coEeSO5"
      },
      "execution_count": 18,
      "outputs": []
    },
    {
      "cell_type": "code",
      "source": [
        "# Display only the first few rows of the DataFrame\n",
        "print(\"\\nUpdated DataFrame with Car Age (showing first few rows):\")\n",
        "print(tabulate(df.head(), headers='keys', tablefmt='grid'))"
      ],
      "metadata": {
        "colab": {
          "base_uri": "https://localhost:8080/"
        },
        "id": "srkhRdXseNWo",
        "outputId": "591f7342-3757-4e1b-a30d-e596ba391b77"
      },
      "execution_count": 19,
      "outputs": [
        {
          "output_type": "stream",
          "name": "stdout",
          "text": [
            "\n",
            "Updated DataFrame with Car Age (showing first few rows):\n",
            "+----+--------------+----------------------------------+------------+--------+---------------------+--------------+-----------+----------+---------+---------+---------+-------------+----------------------+--------------------+-----------------------+-----------+\n",
            "|    |   Unnamed: 0 | Name                             | Location   |   Year |   Kilometers_Driven | Owner_Type   |   Mileage |   Engine |   Power |   Seats |   Price | New_Price   | Fuel_Type_Electric   | Fuel_Type_Petrol   | Transmission_Manual   |   Car_Age |\n",
            "+====+==============+==================================+============+========+=====================+==============+===========+==========+=========+=========+=========+=============+======================+====================+=======================+===========+\n",
            "|  0 |            1 | Hyundai Creta 1.6 CRDi SX Option | Pune       |   2015 |               41000 | First        |     19.67 |     1582 |  126.2  |       5 |   12.5  |             | False                | False              | True                  |         9 |\n",
            "+----+--------------+----------------------------------+------------+--------+---------------------+--------------+-----------+----------+---------+---------+---------+-------------+----------------------+--------------------+-----------------------+-----------+\n",
            "|  1 |            2 | Honda Jazz V                     | Chennai    |   2011 |               46000 | First        |     13    |     1199 |   88.7  |       5 |    4.5  |             | False                | True               | True                  |        13 |\n",
            "+----+--------------+----------------------------------+------------+--------+---------------------+--------------+-----------+----------+---------+---------+---------+-------------+----------------------+--------------------+-----------------------+-----------+\n",
            "|  2 |            3 | Maruti Ertiga VDI                | Chennai    |   2012 |               87000 | First        |     20.77 |     1248 |   88.76 |       7 |    6    |             | False                | False              | True                  |        12 |\n",
            "+----+--------------+----------------------------------+------------+--------+---------------------+--------------+-----------+----------+---------+---------+---------+-------------+----------------------+--------------------+-----------------------+-----------+\n",
            "|  3 |            4 | Audi A4 New 2.0 TDI Multitronic  | Coimbatore |   2013 |               40670 | Second       |     15.2  |     1968 |  140.8  |       5 |   17.74 |             | False                | False              | False                 |        11 |\n",
            "+----+--------------+----------------------------------+------------+--------+---------------------+--------------+-----------+----------+---------+---------+---------+-------------+----------------------+--------------------+-----------------------+-----------+\n",
            "|  4 |            6 | Nissan Micra Diesel XV           | Jaipur     |   2013 |               86999 | First        |     23.08 |     1461 |   63.1  |       5 |    3.5  |             | False                | False              | True                  |        11 |\n",
            "+----+--------------+----------------------------------+------------+--------+---------------------+--------------+-----------+----------+---------+---------+---------+-------------+----------------------+--------------------+-----------------------+-----------+\n"
          ]
        }
      ]
    },
    {
      "cell_type": "markdown",
      "source": [
        "Perform select, filter, rename, mutate, arrange and summarize with group by operations (or\n",
        "their equivalent operations in python) on this dataset. ("
      ],
      "metadata": {
        "id": "g47PO2eKfG3K"
      }
    },
    {
      "cell_type": "code",
      "source": [
        "# Function to calculate Car Age\n",
        "def calculate_car_age(df):\n",
        "    current_year = datetime.now().year\n",
        "    df['Car_Age'] = current_year - df['Year']\n",
        "    return df\n",
        "# Processing the DataFrame through the defined functions with intermediate outputs\n",
        "df = calculate_car_age(df)\n",
        "print(\"\\nAfter Calculating Car Age:\")\n",
        "print(tabulate(df.head(3), headers='keys', tablefmt='grid'))"
      ],
      "metadata": {
        "id": "OTIBTLdogiyI",
        "colab": {
          "base_uri": "https://localhost:8080/"
        },
        "outputId": "82d2f159-99f3-49db-fe1c-a3e0f763d750"
      },
      "execution_count": 20,
      "outputs": [
        {
          "output_type": "stream",
          "name": "stdout",
          "text": [
            "\n",
            "After Calculating Car Age:\n",
            "+----+--------------+----------------------------------+------------+--------+---------------------+--------------+-----------+----------+---------+---------+---------+-------------+----------------------+--------------------+-----------------------+-----------+\n",
            "|    |   Unnamed: 0 | Name                             | Location   |   Year |   Kilometers_Driven | Owner_Type   |   Mileage |   Engine |   Power |   Seats |   Price | New_Price   | Fuel_Type_Electric   | Fuel_Type_Petrol   | Transmission_Manual   |   Car_Age |\n",
            "+====+==============+==================================+============+========+=====================+==============+===========+==========+=========+=========+=========+=============+======================+====================+=======================+===========+\n",
            "|  0 |            1 | Hyundai Creta 1.6 CRDi SX Option | Pune       |   2015 |               41000 | First        |     19.67 |     1582 |  126.2  |       5 |    12.5 |             | False                | False              | True                  |         9 |\n",
            "+----+--------------+----------------------------------+------------+--------+---------------------+--------------+-----------+----------+---------+---------+---------+-------------+----------------------+--------------------+-----------------------+-----------+\n",
            "|  1 |            2 | Honda Jazz V                     | Chennai    |   2011 |               46000 | First        |     13    |     1199 |   88.7  |       5 |     4.5 |             | False                | True               | True                  |        13 |\n",
            "+----+--------------+----------------------------------+------------+--------+---------------------+--------------+-----------+----------+---------+---------+---------+-------------+----------------------+--------------------+-----------------------+-----------+\n",
            "|  2 |            3 | Maruti Ertiga VDI                | Chennai    |   2012 |               87000 | First        |     20.77 |     1248 |   88.76 |       7 |     6   |             | False                | False              | True                  |        12 |\n",
            "+----+--------------+----------------------------------+------------+--------+---------------------+--------------+-----------+----------+---------+---------+---------+-------------+----------------------+--------------------+-----------------------+-----------+\n"
          ]
        }
      ]
    },
    {
      "cell_type": "code",
      "source": [
        "# Function to select specific columns\n",
        "def select_columns(df):\n",
        "    return df[['Name', 'Year', 'Price', 'Car_Age']]\n",
        "selected_data = select_columns(df)\n",
        "print(\"\\nAfter Selecting Specific Columns:\")\n",
        "print(tabulate(selected_data.head(3), headers='keys', tablefmt='grid'))"
      ],
      "metadata": {
        "id": "jqsy4DAzgmV0",
        "colab": {
          "base_uri": "https://localhost:8080/"
        },
        "outputId": "f266d590-e0df-4741-d698-632206c2724d"
      },
      "execution_count": 21,
      "outputs": [
        {
          "output_type": "stream",
          "name": "stdout",
          "text": [
            "\n",
            "After Selecting Specific Columns:\n",
            "+----+----------------------------------+--------+---------+-----------+\n",
            "|    | Name                             |   Year |   Price |   Car_Age |\n",
            "+====+==================================+========+=========+===========+\n",
            "|  0 | Hyundai Creta 1.6 CRDi SX Option |   2015 |    12.5 |         9 |\n",
            "+----+----------------------------------+--------+---------+-----------+\n",
            "|  1 | Honda Jazz V                     |   2011 |     4.5 |        13 |\n",
            "+----+----------------------------------+--------+---------+-----------+\n",
            "|  2 | Maruti Ertiga VDI                |   2012 |     6   |        12 |\n",
            "+----+----------------------------------+--------+---------+-----------+\n"
          ]
        }
      ]
    },
    {
      "cell_type": "code",
      "source": [
        "# Function to filter data\n",
        "def filter_data(df, price_threshold):\n",
        "    return df[df['Price'] > price_threshold]\n",
        "filtered_data = filter_data(selected_data, price_threshold=15000)\n",
        "print(\"\\nAfter Filtering Data (Price > 15000):\")\n",
        "print(tabulate(filtered_data.head(3), headers='keys', tablefmt='grid'))"
      ],
      "metadata": {
        "id": "sUYDoAErh0YN",
        "colab": {
          "base_uri": "https://localhost:8080/"
        },
        "outputId": "6abc8801-16d5-481f-a7a3-d7897ed6d6c2"
      },
      "execution_count": 22,
      "outputs": [
        {
          "output_type": "stream",
          "name": "stdout",
          "text": [
            "\n",
            "After Filtering Data (Price > 15000):\n",
            "+--------+--------+---------+-----------+\n",
            "| Name   | Year   | Price   | Car_Age   |\n",
            "+========+========+=========+===========+\n",
            "+--------+--------+---------+-----------+\n"
          ]
        }
      ]
    },
    {
      "cell_type": "code",
      "source": [
        "# Function to rename columns\n",
        "def rename_columns(df):\n",
        "    return df.rename(columns={'Price': 'Used_Car_Price'})\n",
        "renamed_data = rename_columns(filtered_data)\n",
        "print(\"\\nAfter Renaming Columns:\")\n",
        "print(tabulate(renamed_data.head(3), headers='keys', tablefmt='grid'))"
      ],
      "metadata": {
        "id": "w-3liKj6h3hV",
        "colab": {
          "base_uri": "https://localhost:8080/"
        },
        "outputId": "031fa49e-7e40-4597-aee0-711854fbfc7a"
      },
      "execution_count": 30,
      "outputs": [
        {
          "output_type": "stream",
          "name": "stdout",
          "text": [
            "\n",
            "After Renaming Columns:\n",
            "+--------+--------+------------------+-----------+\n",
            "| Name   | Year   | Used_Car_Price   | Car_Age   |\n",
            "+========+========+==================+===========+\n",
            "+--------+--------+------------------+-----------+\n"
          ]
        }
      ]
    },
    {
      "cell_type": "code",
      "source": [
        "# Function to mutate data by adding a new column\n",
        "def mutate_data(df):\n",
        "    df['Price_Per_Year'] = df['Used_Car_Price'] / df['Car_Age']\n",
        "    return df\n",
        "mutated_data = mutate_data(renamed_data)\n",
        "print(\"\\nAfter Mutating Data (Adding Price_Per_Year):\")\n",
        "print(tabulate(mutated_data.head(3), headers='keys', tablefmt='grid'))"
      ],
      "metadata": {
        "id": "dp0HgSMbh51L",
        "colab": {
          "base_uri": "https://localhost:8080/"
        },
        "outputId": "989937b0-1154-482f-9ed5-5af2df3514c2"
      },
      "execution_count": 31,
      "outputs": [
        {
          "output_type": "stream",
          "name": "stdout",
          "text": [
            "\n",
            "After Mutating Data (Adding Price_Per_Year):\n",
            "+--------+--------+------------------+-----------+------------------+\n",
            "| Name   | Year   | Used_Car_Price   | Car_Age   | Price_Per_Year   |\n",
            "+========+========+==================+===========+==================+\n",
            "+--------+--------+------------------+-----------+------------------+\n"
          ]
        }
      ]
    },
    {
      "cell_type": "code",
      "source": [
        "# Function to arrange data\n",
        "def arrange_data(df):\n",
        "    return df.sort_values(by='Used_Car_Price', ascending=False)\n",
        "arranged_data = arrange_data(mutated_data)\n",
        "print(\"\\nFinal Arranged Data:\")\n",
        "print(tabulate(arranged_data.head(3), headers='keys', tablefmt='grid'))"
      ],
      "metadata": {
        "id": "DJXsQyuih8pJ",
        "colab": {
          "base_uri": "https://localhost:8080/"
        },
        "outputId": "e62293d7-181f-4d54-9d27-3665a95e82a6"
      },
      "execution_count": 32,
      "outputs": [
        {
          "output_type": "stream",
          "name": "stdout",
          "text": [
            "\n",
            "Final Arranged Data:\n",
            "+--------+--------+------------------+-----------+------------------+\n",
            "| Name   | Year   | Used_Car_Price   | Car_Age   | Price_Per_Year   |\n",
            "+========+========+==================+===========+==================+\n",
            "+--------+--------+------------------+-----------+------------------+\n"
          ]
        }
      ]
    },
    {
      "cell_type": "code",
      "source": [
        "# Processing the DataFrame through the defined functions\n",
        "df = calculate_car_age(df)\n",
        "selected_data = select_columns(df)\n",
        "filtered_data = filter_data(selected_data, price_threshold=15000)\n",
        "renamed_data = rename_columns(filtered_data)\n",
        "mutated_data = mutate_data(renamed_data)\n",
        "arranged_data = arrange_data(mutated_data)"
      ],
      "metadata": {
        "id": "2gWMWGKAh-x1"
      },
      "execution_count": 27,
      "outputs": []
    },
    {
      "cell_type": "code",
      "source": [
        "# Display the final arranged data\n",
        "print(\"\\nFinal Arranged Data:\")\n",
        "print(tabulate(arranged_data, headers='keys', tablefmt='grid'))"
      ],
      "metadata": {
        "colab": {
          "base_uri": "https://localhost:8080/"
        },
        "id": "znnF5PvuiBa9",
        "outputId": "a3e85e9b-5303-4352-fb06-c5741e5e915b"
      },
      "execution_count": 28,
      "outputs": [
        {
          "output_type": "stream",
          "name": "stdout",
          "text": [
            "\n",
            "Final Arranged Data:\n",
            "+--------+--------+------------------+-----------+------------------+\n",
            "| Name   | Year   | Used_Car_Price   | Car_Age   | Price_Per_Year   |\n",
            "+========+========+==================+===========+==================+\n",
            "+--------+--------+------------------+-----------+------------------+\n"
          ]
        }
      ]
    }
  ]
}